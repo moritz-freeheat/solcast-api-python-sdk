{
 "cells": [
  {
   "cell_type": "markdown",
   "id": "c6c3258a-5726-44d2-b5de-b7c05b7616a7",
   "metadata": {},
   "source": [
    "In this example we are going to fetch GHI and Clearsky GHI for 5 days in the past for the Sydney Opera House."
   ]
  },
  {
   "cell_type": "code",
   "execution_count": 20,
   "id": "9d98a9e7",
   "metadata": {},
   "outputs": [],
   "source": [
    "from solcast import historic, forecast"
   ]
  },
  {
   "cell_type": "markdown",
   "id": "fe52cab5-bbac-4d1e-9d5d-0d10756d98e6",
   "metadata": {},
   "source": [
    "To test the API you can use [unmetered locations](https://docs.solcast.com.au/?_gl=1*k80zyt*_ga*MzQ4NzM2ODEuMTY5MDI2MzUwOQ..*_ga_BYH3TC3R79*MTY5MjIzOTc0NS4xOC4xLjE2OTIyMzk3NzQuMC4wLjA.&_ga=2.240435015.595123581.1692145391-34873681.1690263509#unmetered-locations), in the sdk:"
   ]
  },
  {
   "cell_type": "code",
   "execution_count": 21,
   "id": "ff20eeac-7d2d-4cb9-9993-13e610ba48c5",
   "metadata": {},
   "outputs": [],
   "source": [
    "from solcast.unmetered_locations import UNMETERED_LOCATIONS\n",
    "sydney = UNMETERED_LOCATIONS['Sydney Opera House']\n",
    "SOLCAST_API_KEY = \"gG8Ww216F5UzVYn5gm6ajBw5XlINl647\""
   ]
  },
  {
   "cell_type": "markdown",
   "id": "9e87b987-eb3b-4aad-b3e2-c2b5d5704ec5",
   "metadata": {},
   "source": [
    "We are going to use the `historic.radiation_and_weather` API:"
   ]
  },
  {
   "cell_type": "code",
   "execution_count": 22,
   "id": "488049ee-83ae-4ece-ae5f-76699a404d8b",
   "metadata": {},
   "outputs": [
    {
     "name": "stdout",
     "output_type": "stream",
     "text": [
      "Help on function radiation_and_weather in module solcast.historic:\n",
      "\n",
      "radiation_and_weather(latitude: float, longitude: float, start: str, end: str = None, duration: str = None, **kwargs) -> solcast.api.PandafiableResponse\n",
      "    Get historical irradiance and weather estimated actuals for up to 31 days of data\n",
      "    at a time for a requested location, derived from satellite (clouds and irradiance\n",
      "    over non-polar continental areas) and numerical weather models (other data).\n",
      "    Data is available from 2007-01-01T00:00Z up to real time estimated actuals.\n",
      "\n",
      "    Args:\n",
      "        latitude: in decimal degrees, between -90 and 90, north is positive\n",
      "        longitude: in decimal degrees, between -180 and 180, east is positive\n",
      "        start: datetime-like, first day of the requested period\n",
      "        end: optional, datetime-like, last day of the requested period\n",
      "        duration: optional, ISO_8601 compliant duration for the historic data.\n",
      "            Must be within 31 days of the start_date.\n",
      "        **kwargs: additional keyword arguments to be passed through as URL parameters to the Solcast API\n",
      "\n",
      "    See https://docs.solcast.com.au/ for full list of parameters.\n",
      "\n"
     ]
    }
   ],
   "source": [
    "help(historic.radiation_and_weather)"
   ]
  },
  {
   "cell_type": "code",
   "execution_count": 12,
   "id": "7be40a6e",
   "metadata": {},
   "outputs": [
    {
     "name": "stdout",
     "output_type": "stream",
     "text": [
      "Help on function rooftop_pv_power in module solcast.forecast:\n",
      "\n",
      "rooftop_pv_power(latitude: float, longitude: float, output_parameters: List[str], **kwargs) -> solcast.api.PandafiableResponse\n",
      "    Get basic rooftop PV power forecasts from the present time up to 14 days ahead\n",
      "    for the requested location, derived from satellite (clouds and irradiance\n",
      "    over non-polar continental areas, nowcasted for approx. four hours ahead)\n",
      "    and numerical weather models (other data and longer horizons).\n",
      "\n",
      "    Args:\n",
      "        latitude: in decimal degrees, between -90 and 90, north is positive\n",
      "        longitude: in decimal degrees, between -180 and 180, east is positive\n",
      "        output_parameters: list of strings with the parameters to return\n",
      "        **kwargs: additional keyword arguments to be passed through as URL parameters to the Solcast API\n",
      "\n",
      "    See https://docs.solcast.com.au/ for full list of parameters.\n",
      "\n"
     ]
    }
   ],
   "source": [
    "help(forecast.rooftop_pv_power)"
   ]
  },
  {
   "cell_type": "code",
   "execution_count": null,
   "id": "21d0edec",
   "metadata": {},
   "outputs": [],
   "source": [
    "res = historic.radiation_and_weather(\n",
    "    api_key=SOLCAST_API_KEY,\n",
    "    latitude=sydney['latitude'], \n",
    "    longitude=sydney['longitude'],\n",
    "    output_parameters='clearsky_ghi,ghi',\n",
    "    start='2022-06-01T14:45:00.000Z',\n",
    "    duration='P5D',\n",
    "    period='PT5M'\n",
    ")"
   ]
  },
  {
   "cell_type": "code",
   "execution_count": 27,
   "id": "1f04e6b7",
   "metadata": {},
   "outputs": [],
   "source": [
    "res_forecast = forecast.rooftop_pv_power(\n",
    "    api_key=SOLCAST_API_KEY,\n",
    "    latitude=sydney['latitude'], \n",
    "    longitude=sydney['longitude'],\n",
    "    output_parameters='pv_power_rooftop',\n",
    "    capacity=10,\n",
    "    azimuth=90,\n",
    "    tilt=25\n",
    ")"
   ]
  },
  {
   "cell_type": "markdown",
   "id": "72a4078d-5611-47c2-b3de-3875caceac3b",
   "metadata": {},
   "source": [
    "we can also use the same function with the `end` parameter instead of the `duration`, the results will be equivalent:  "
   ]
  },
  {
   "cell_type": "code",
   "execution_count": 6,
   "id": "e094ad67-3709-4137-9c77-4e981b0a46b2",
   "metadata": {},
   "outputs": [],
   "source": [
    "res2 = historic.radiation_and_weather(\n",
    "    latitude=sydney['latitude'], \n",
    "    longitude=sydney['longitude'],\n",
    "    output_parameters='clearsky_ghi,ghi',\n",
    "    start='2022-06-01T14:45:00.000Z',\n",
    "    end='2022-06-06T14:45:00.000Z',\n",
    "    period='PT5M'\n",
    ")\n",
    "\n",
    "assert (res.to_pandas() == res2.to_pandas()).all().all()"
   ]
  },
  {
   "cell_type": "markdown",
   "id": "0b3ed3e6-5069-4f85-b8a5-beb0055e02a8",
   "metadata": {},
   "source": [
    "Let's transform the result in a DataFrame with the `res.to_pandas()` and plot the time series with `matplotlib`.\n",
    "Since we are retrieving data for Sydney, we can cast the times to the local timezone too:"
   ]
  },
  {
   "cell_type": "code",
   "execution_count": 28,
   "id": "4b02328c",
   "metadata": {},
   "outputs": [
    {
     "data": {
      "text/plain": [
       "<Axes: xlabel='period_end'>"
      ]
     },
     "execution_count": 28,
     "metadata": {},
     "output_type": "execute_result"
    },
    {
     "data": {
      "image/png": "[encoded data removed]",
      "text/plain": [
       "<Figure size 640x480 with 1 Axes>"
      ]
     },
     "metadata": {},
     "output_type": "display_data"
    }
   ],
   "source": [
    "df = res_forecast.to_pandas()\n",
    "df.index = df.index.tz_convert('Australia/Sydney')\n",
    "df.plot()"
   ]
  },
  {
   "cell_type": "code",
   "execution_count": null,
   "id": "0e06bfda-6ee0-4b6d-a11f-e71c95423f79",
   "metadata": {},
   "outputs": [],
   "source": []
  }
 ],
 "metadata": {
  "kernelspec": {
   "display_name": "Python 3",
   "language": "python",
   "name": "python3"
  },
  "language_info": {
   "codemirror_mode": {
    "name": "ipython",
    "version": 3
   },
   "file_extension": ".py",
   "mimetype": "text/x-python",
   "name": "python",
   "nbconvert_exporter": "python",
   "pygments_lexer": "ipython3",
   "version": "3.12.8"
  }
 },
 "nbformat": 4,
 "nbformat_minor": 5
}
